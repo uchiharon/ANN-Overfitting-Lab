{
 "cells": [
  {
   "cell_type": "code",
   "execution_count": null,
   "id": "e1642afc-a89c-404b-8c3b-fd7b3b82d6ca",
   "metadata": {},
   "outputs": [],
   "source": [
    "%matplotlib inline\n",
    "import os                                               # to set current working directory \n",
    "import sys                                              # supress output to screen for interactive variogram modeling\n",
    "import io\n",
    "import numpy as np                                      # arrays and matrix math\n",
    "import pandas as pd                                     # DataFrames\n",
    "import matplotlib.pyplot as plt                         # plotting\n",
    "from sklearn.model_selection import train_test_split    # train and test split\n",
    "from sklearn.metrics import mean_squared_error          # model error calculation\n",
    "from sklearn.preprocessing import StandardScaler        # standardize data\n",
    "import scipy                                            # kernel density estimator for PDF plot\n",
    "from matplotlib.pyplot import cm                        # color maps\n",
    "\n",
    "\n",
    "import tensorflow as tf                                 # build deep learning models\n",
    "from tensorflow import keras\n",
    "from tensorflow.keras.models import Sequential\n",
    "from tensorflow.keras.layers import Dense, Dropout\n",
    "\n",
    "\n",
    "from ipywidgets import interactive                      # widgets and interactivity\n",
    "from ipywidgets import widgets                            \n",
    "from ipywidgets import Layout\n",
    "from ipywidgets import Label\n",
    "from ipywidgets import VBox, HBox\n",
    "import warnings\n",
    "warnings.filterwarnings('ignore')                       # supress warnings"
   ]
  },
  {
   "cell_type": "code",
   "execution_count": null,
   "id": "4b338ba3-3076-4e33-9e22-2172f75c1726",
   "metadata": {},
   "outputs": [],
   "source": [
    "activation_function = ['linear', 'ReLU', 'Sigmoid', 'Softmax', 'Leaky ReLU', 'GELU']"
   ]
  },
  {
   "cell_type": "code",
   "execution_count": null,
   "id": "fc183f21-a7ce-42ac-ad36-35d778932ba9",
   "metadata": {},
   "outputs": [],
   "source": [
    "def input_layer(nodes: int, activation_function: str):\n",
    "    \"\"\"\n",
    "    Creates an input layer for a neural network.\n",
    "\n",
    "    Parameters:\n",
    "    nodes (int): Number of neurons in the input layer.\n",
    "    activation_function (str): Activation function to be used in the input layer.\n",
    "\n",
    "    Returns:\n",
    "    Dense: A Keras Dense layer with the specified number of nodes and activation function.\n",
    "    \"\"\"\n",
    "    return Dense(nodes, activation=activation_function, input_shape=(1,))\n",
    "\n",
    "def output_layer(activation_function: str):\n",
    "    \"\"\"\n",
    "    Creates an output layer for a neural network.\n",
    "\n",
    "    Parameters:\n",
    "    activation_function (str): Activation function to be used in the output layer.\n",
    "\n",
    "    Returns:\n",
    "    Dense: A Keras Dense layer with one neuron and the specified activation function.\n",
    "    \"\"\"\n",
    "    return Dense(1, activation=activation_function)"
   ]
  },
  {
   "cell_type": "code",
   "execution_count": null,
   "id": "9640b66f-9a9c-494a-b982-1c560e173cfd",
   "metadata": {},
   "outputs": [],
   "source": []
  },
  {
   "cell_type": "code",
   "execution_count": null,
   "id": "41cfe3ea-3629-4c5b-9d94-6a3c05f2a03f",
   "metadata": {},
   "outputs": [],
   "source": []
  },
  {
   "cell_type": "code",
   "execution_count": null,
   "id": "623881a5-c9ad-465a-a782-093550b34471",
   "metadata": {},
   "outputs": [],
   "source": []
  },
  {
   "cell_type": "code",
   "execution_count": null,
   "id": "92ea37cc-7b08-4def-b699-af735a8f51a2",
   "metadata": {},
   "outputs": [],
   "source": []
  },
  {
   "cell_type": "code",
   "execution_count": null,
   "id": "6a2a9b49-e5d0-4289-93ba-a859fa07e46b",
   "metadata": {},
   "outputs": [],
   "source": []
  },
  {
   "cell_type": "code",
   "execution_count": null,
   "id": "822684b9-9876-4335-9418-fe3501891011",
   "metadata": {},
   "outputs": [],
   "source": []
  },
  {
   "cell_type": "code",
   "execution_count": null,
   "id": "8aff184d-810a-471f-be9c-e04c8eb3d060",
   "metadata": {},
   "outputs": [],
   "source": []
  },
  {
   "cell_type": "code",
   "execution_count": null,
   "id": "fef58bd7-867f-4115-a88c-7b29f9418bd7",
   "metadata": {},
   "outputs": [],
   "source": [
    "l = widgets.Text(value='                                       Machine Learning Overfit/Generalization Demo, Prof. Michael Pyrcz and John Eric McCarthy II, The University of Texas at Austin',\n",
    "                 layout=Layout(width='950px', height='30px'))\n",
    "\n",
    "n = widgets.IntSlider(min=15, max = 80, value=30, step = 1, description = 'n',orientation='horizontal', style = {'description_width': 'initial'}, continuous_update=False)\n",
    "split = widgets.FloatSlider(min=0.05, max = .95, value=0.20, step = 0.05, description = 'Test %',orientation='horizontal',style = {'description_width': 'initial'}, continuous_update=False)\n",
    "std = widgets.FloatSlider(min=0, max = 50, value=0, step = 1.0, description = 'Noise StDev',orientation='horizontal',style = {'description_width': 'initial'}, continuous_update=False)\n",
    "degree = widgets.IntSlider(min=1, max = 12, value=1, step = 1, description = 'Model Order',orientation='horizontal', style = {'description_width': 'initial'}, continuous_update=False)\n",
    "\n",
    "ui = widgets.HBox([n,split,std,degree],)\n",
    "ui2 = widgets.VBox([l,ui],)"
   ]
  }
 ],
 "metadata": {
  "kernelspec": {
   "display_name": "Python [conda env:base] *",
   "language": "python",
   "name": "conda-base-py"
  },
  "language_info": {
   "codemirror_mode": {
    "name": "ipython",
    "version": 3
   },
   "file_extension": ".py",
   "mimetype": "text/x-python",
   "name": "python",
   "nbconvert_exporter": "python",
   "pygments_lexer": "ipython3",
   "version": "3.12.7"
  }
 },
 "nbformat": 4,
 "nbformat_minor": 5
}
